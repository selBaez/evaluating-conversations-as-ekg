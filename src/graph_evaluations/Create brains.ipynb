{
 "cells": [
  {
   "cell_type": "markdown",
   "id": "395f9947-903f-4779-8602-98012f618e1d",
   "metadata": {},
   "source": [
    "This notebook creates four different brains containing different quantity and quality of information. The brains can then be compared amonst each other across structural and semantic similarities."
   ]
  },
  {
   "cell_type": "code",
   "execution_count": 1,
   "id": "1969c86e-b019-4043-8293-109bca4dde3f",
   "metadata": {},
   "outputs": [],
   "source": [
    "import copy\n",
    "import json\n",
    "from pathlib import Path\n",
    "\n",
    "from tqdm import tqdm"
   ]
  },
  {
   "cell_type": "code",
   "execution_count": 2,
   "id": "149164c0-4b5c-4954-a3f7-db5b831c0c9a",
   "metadata": {},
   "outputs": [
    {
     "name": "stdout",
     "output_type": "stream",
     "text": [
      "/Users/selbaez/Documents/PhD/leolani/cltl-knowledgerepresentation/src\n",
      "['/Users/selbaez/Documents/PhD/sandbox/notebooks', '/usr/local/anaconda3/envs/sandbox/lib/python37.zip', '/usr/local/anaconda3/envs/sandbox/lib/python3.7', '/usr/local/anaconda3/envs/sandbox/lib/python3.7/lib-dynload', '', '/usr/local/anaconda3/envs/sandbox/lib/python3.7/site-packages', '/usr/local/anaconda3/envs/sandbox/lib/python3.7/site-packages/IPython/extensions', '/Users/selbaez/.ipython', '/Users/selbaez/Documents/PhD/leolani/cltl-knowledgerepresentation/src']\n"
     ]
    }
   ],
   "source": [
    "\n",
    "from cltl.brain.long_term_memory import LongTermMemory\n",
    "from cltl.brain.utils.base_cases import conflicting_statements, statements_old_team, statements\n"
   ]
  },
  {
   "cell_type": "code",
   "execution_count": 3,
   "id": "2ccc27ac",
   "metadata": {
    "collapsed": false,
    "jupyter": {
     "outputs_hidden": false
    },
    "pycharm": {
     "name": "#%%\n"
    }
   },
   "outputs": [],
   "source": [
    "# Read csv\n",
    "# for row, read utterance, create capsule, link ... sounds familiar\n"
   ]
  },
  {
   "cell_type": "code",
   "execution_count": null,
   "id": "dbee2579-594c-467f-b87f-d7b74209c308",
   "metadata": {},
   "outputs": [
    {
     "name": "stderr",
     "output_type": "stream",
     "text": [
      "2022-02-14 20:04:28 -     INFO -                                    cltl.brain.LongTermMemory - Booted\n",
      "2022-02-14 20:04:28 -     INFO -                                    cltl.brain.LongTermMemory - Clearing brain\n",
      "2022-02-14 20:04:29 -     INFO -                                    cltl.brain.LongTermMemory - Uploading ontology to brain\n",
      "2022-02-14 20:04:36 -     INFO -                                  cltl.brain.ThoughtGenerator - Booted\n",
      "2022-02-14 20:04:36 -     INFO -                                  cltl.brain.LocationReasoner - Booted\n",
      "2022-02-14 20:04:36 -     INFO -                                      cltl.brain.TypeReasoner - Booted\n",
      "2022-02-14 20:04:36 -     INFO -                                   cltl.brain.TrustCalculator - Booted\n",
      "2022-02-14 20:04:36 -     INFO -                                   cltl.brain.TrustCalculator - Computed trust for all known agents\n",
      "  0%|                                 | 0/39 [00:00<?, ?it/s]2022-02-14 20:04:36 -     INFO -                                    cltl.brain.LongTermMemory - Triple in statement: lenka_be-from_serbia [person_->_location])\n",
      "2022-02-14 20:04:36 -     INFO -                                  cltl.brain.ThoughtGenerator - Entity Novelty: new subject - new object \n"
     ]
    },
    {
     "name": "stdout",
     "output_type": "stream",
     "text": [
      "\n",
      "\n",
      "---------------------------------------------------------------\n",
      "\n"
     ]
    },
    {
     "name": "stderr",
     "output_type": "stream",
     "text": [
      "2022-02-14 20:04:47 -     INFO -                                  cltl.brain.ThoughtGenerator - Gaps: 49 gaps as subject: e.g. like agent - 31 gaps as object: e.g. read-by interest-occurrence\n",
      "2022-02-14 20:04:47 -     INFO -                                  cltl.brain.ThoughtGenerator - Gaps: 2 gaps as subject: e.g. in location - 15 gaps as object: e.g. in city\n",
      "  3%|▋                        | 1/39 [00:10<06:52, 10.85s/it]2022-02-14 20:04:47 -     INFO -                                    cltl.brain.LongTermMemory - Triple in statement: bram_be-from_netherlands [person_->_location])\n",
      "2022-02-14 20:04:47 -     INFO -                                  cltl.brain.ThoughtGenerator - Entity Novelty: new subject - new object \n"
     ]
    },
    {
     "name": "stdout",
     "output_type": "stream",
     "text": [
      "\n",
      "lenka_be-from_serbia [person_->_location])\n",
      "\n",
      "\n",
      "\n",
      "---------------------------------------------------------------\n",
      "\n"
     ]
    },
    {
     "name": "stderr",
     "output_type": "stream",
     "text": [
      "2022-02-14 20:04:53 -     INFO -                                  cltl.brain.ThoughtGenerator - Gaps: 49 gaps as subject: e.g. like agent - 31 gaps as object: e.g. like-by agent\n",
      "2022-02-14 20:04:53 -     INFO -                                  cltl.brain.ThoughtGenerator - Gaps: 2 gaps as subject: e.g. in country - 15 gaps as object: e.g. manufacture-in robot\n",
      "  5%|█▎                       | 2/39 [00:17<05:00,  8.11s/it]2022-02-14 20:04:53 -     INFO -                                    cltl.brain.LongTermMemory - Triple in statement: selene_be-from_mexico [person_->_location])\n",
      "2022-02-14 20:04:53 -     INFO -                                  cltl.brain.ThoughtGenerator - Entity Novelty: new subject - new object \n"
     ]
    },
    {
     "name": "stdout",
     "output_type": "stream",
     "text": [
      "\n",
      "bram_be-from_netherlands [person_->_location])\n",
      "\n",
      "\n",
      "\n",
      "---------------------------------------------------------------\n",
      "\n"
     ]
    },
    {
     "name": "stderr",
     "output_type": "stream",
     "text": [
      "2022-02-14 20:05:01 -     INFO -                                  cltl.brain.ThoughtGenerator - Gaps: 49 gaps as subject: e.g. work-at institution - 31 gaps as object: e.g. cook-by interest\n",
      "2022-02-14 20:05:01 -     INFO -                                  cltl.brain.ThoughtGenerator - Gaps: 2 gaps as subject: e.g. in location - 15 gaps as object: e.g. born-in cuisine\n",
      "  8%|█▉                       | 3/39 [00:24<04:41,  7.81s/it]2022-02-14 20:05:01 -     INFO -                                    cltl.brain.LongTermMemory - Triple in statement: suzana_be-from_croatia [person_->_location])\n",
      "2022-02-14 20:05:01 -     INFO -                                  cltl.brain.ThoughtGenerator - Entity Novelty: new subject - new object \n"
     ]
    },
    {
     "name": "stdout",
     "output_type": "stream",
     "text": [
      "\n",
      "selene_be-from_mexico [person_->_location])\n",
      "\n",
      "\n",
      "\n",
      "---------------------------------------------------------------\n",
      "\n"
     ]
    },
    {
     "name": "stderr",
     "output_type": "stream",
     "text": [
      "2022-02-14 20:05:10 -     INFO -                                  cltl.brain.ThoughtGenerator - Gaps: 49 gaps as subject: e.g. be-friends-with agent - 31 gaps as object: e.g. write-by interest-occurrence\n",
      "2022-02-14 20:05:10 -     INFO -                                  cltl.brain.ThoughtGenerator - Gaps: 2 gaps as subject: e.g. in location - 15 gaps as object: e.g. manufacture-in interest-field\n",
      " 10%|██▌                      | 4/39 [00:33<04:52,  8.37s/it]2022-02-14 20:05:10 -     INFO -                                    cltl.brain.LongTermMemory - Triple in statement: selene_be-from_netherlands [person_->_location])\n",
      "2022-02-14 20:05:10 -     INFO -                                  cltl.brain.ThoughtGenerator - Entity Novelty: new subject - existing object \n",
      "2022-02-14 20:05:10 -     INFO -                                  cltl.brain.ThoughtGenerator - Overlaps: 0 subject overlaps: e.g. '' - 1 object overlaps: e.g. piek on October,2017 about bram\n"
     ]
    },
    {
     "name": "stdout",
     "output_type": "stream",
     "text": [
      "\n",
      "suzana_be-from_croatia [person_->_location])\n",
      "\n",
      "\n",
      "\n",
      "---------------------------------------------------------------\n",
      "\n"
     ]
    },
    {
     "name": "stderr",
     "output_type": "stream",
     "text": [
      "2022-02-14 20:05:21 -     INFO -                                  cltl.brain.ThoughtGenerator - Gaps: 49 gaps as subject: e.g. be-child-of person - 31 gaps as object: e.g. cook-by interest\n",
      "2022-02-14 20:05:21 -     INFO -                                  cltl.brain.ThoughtGenerator - Gaps: 2 gaps as subject: e.g. in location - 15 gaps as object: e.g. in city\n",
      " 13%|███▏                     | 5/39 [00:44<05:18,  9.36s/it]2022-02-14 20:05:21 -     INFO -                                    cltl.brain.LongTermMemory - Triple in statement: lenka_be-from_serbia [person_->_location])\n",
      "2022-02-14 20:05:21 -     INFO -                                  cltl.brain.ThoughtGenerator - Statement Novelty: 1 times, e.g. piek on October,2017\n"
     ]
    },
    {
     "name": "stdout",
     "output_type": "stream",
     "text": [
      "\n",
      "selene_be-from_netherlands [person_->_location])\n",
      "\n",
      "\n",
      "\n",
      "---------------------------------------------------------------\n",
      "\n"
     ]
    },
    {
     "name": "stderr",
     "output_type": "stream",
     "text": [
      "2022-02-14 20:05:44 -     INFO -                                  cltl.brain.ThoughtGenerator - Gaps: 49 gaps as subject: e.g. work-at institution - 31 gaps as object: e.g. read-by interest\n",
      "2022-02-14 20:05:45 -     INFO -                                  cltl.brain.ThoughtGenerator - Gaps: 2 gaps as subject: e.g. in location - 15 gaps as object: e.g. manufacture-in interest-field\n",
      " 15%|███▊                     | 6/39 [01:08<07:47, 14.18s/it]2022-02-14 20:05:45 -     INFO -                                    cltl.brain.LongTermMemory - Triple in statement: bram_like_goulash [person_->_dish])\n",
      "2022-02-14 20:05:45 -     INFO -                                  cltl.brain.ThoughtGenerator - Entity Novelty: existing subject - new object \n"
     ]
    },
    {
     "name": "stdout",
     "output_type": "stream",
     "text": [
      "\n",
      "lenka_be-from_serbia [person_->_location])\n",
      "\n",
      "\n",
      "\n",
      "---------------------------------------------------------------\n",
      "\n"
     ]
    },
    {
     "name": "stderr",
     "output_type": "stream",
     "text": [
      "2022-02-14 20:06:27 -     INFO -                                  cltl.brain.ThoughtGenerator - Gaps: 49 gaps as subject: e.g. favorite-of agent - 31 gaps as object: e.g. read-by interest\n",
      "2022-02-14 20:06:28 -     INFO -                                  cltl.brain.ThoughtGenerator - Gaps: 46 gaps as subject: e.g. be-colleague-of agent - 30 gaps as object: e.g. be-friends-with agent\n",
      " 18%|████▍                    | 7/39 [01:51<12:35, 23.61s/it]2022-02-14 20:06:28 -     INFO -                                    cltl.brain.LongTermMemory - Triple in statement: bram_like_romantic-movies [person_->_film-genre])\n",
      "2022-02-14 20:06:28 -     INFO -                                  cltl.brain.ThoughtGenerator - Entity Novelty: existing subject - new object \n",
      "2022-02-14 20:06:28 -     INFO -                                  cltl.brain.ThoughtGenerator - Overlaps: 1 subject overlaps: e.g. selene on November,2017 about goulash - 0 object overlaps: e.g. ''\n"
     ]
    },
    {
     "name": "stdout",
     "output_type": "stream",
     "text": [
      "\n",
      "bram_like_goulash [person_->_dish])\n",
      "\n",
      "\n",
      "\n",
      "---------------------------------------------------------------\n",
      "\n"
     ]
    },
    {
     "name": "stderr",
     "output_type": "stream",
     "text": [
      "2022-02-14 20:06:58 -     INFO -                                  cltl.brain.ThoughtGenerator - Gaps: 49 gaps as subject: e.g. favorite interest - 31 gaps as object: e.g. read-by interest-occurrence\n",
      "2022-02-14 20:06:59 -     INFO -                                  cltl.brain.ThoughtGenerator - Gaps: 46 gaps as subject: e.g. live-in location - 30 gaps as object: e.g. favorite-of agent\n",
      " 21%|█████▏                   | 8/39 [02:22<13:25, 25.97s/it]2022-02-14 20:06:59 -     INFO -                                    cltl.brain.LongTermMemory - Triple in statement: lenka_like_ice-cream [person_->_dish])\n",
      "2022-02-14 20:06:59 -     INFO -                                  cltl.brain.ThoughtGenerator - Entity Novelty: existing subject - new object \n"
     ]
    },
    {
     "name": "stdout",
     "output_type": "stream",
     "text": [
      "\n",
      "bram_like_romantic-movies [person_->_film-genre])\n",
      "\n",
      "\n",
      "\n",
      "---------------------------------------------------------------\n",
      "\n"
     ]
    },
    {
     "name": "stderr",
     "output_type": "stream",
     "text": [
      "2022-02-14 20:07:29 -     INFO -                                  cltl.brain.ThoughtGenerator - Gaps: 49 gaps as subject: e.g. be-ancestor-of person - 31 gaps as object: e.g. be-friends-with agent\n",
      "2022-02-14 20:07:30 -     INFO -                                  cltl.brain.ThoughtGenerator - Gaps: 46 gaps as subject: e.g. know agent - 30 gaps as object: e.g. be-ancestor-of person\n",
      " 23%|█████▊                   | 9/39 [02:53<13:46, 27.54s/it]2022-02-14 20:07:30 -     INFO -                                    cltl.brain.LongTermMemory - Triple in statement: lenka_like_harry-potter [person_->_movie])\n",
      "2022-02-14 20:07:30 -     INFO -                                  cltl.brain.ThoughtGenerator - Entity Novelty: existing subject - new object \n",
      "2022-02-14 20:07:30 -     INFO -                                  cltl.brain.ThoughtGenerator - Overlaps: 1 subject overlaps: e.g. selene on November,2017 about ice-cream - 0 object overlaps: e.g. ''\n"
     ]
    },
    {
     "name": "stdout",
     "output_type": "stream",
     "text": [
      "\n",
      "lenka_like_ice-cream [person_->_dish])\n",
      "\n",
      "\n",
      "\n",
      "---------------------------------------------------------------\n",
      "\n"
     ]
    },
    {
     "name": "stderr",
     "output_type": "stream",
     "text": [
      "2022-02-14 20:07:55 -     INFO -                                  cltl.brain.ThoughtGenerator - Gaps: 49 gaps as subject: e.g. like agent - 31 gaps as object: e.g. read-by interest-occurrence\n",
      "2022-02-14 20:07:55 -     INFO -                                  cltl.brain.ThoughtGenerator - Gaps: 46 gaps as subject: e.g. be-child-of person - 30 gaps as object: e.g. play agent\n",
      " 26%|██████▏                 | 10/39 [03:18<13:00, 26.92s/it]2022-02-14 20:07:55 -     INFO -                                    cltl.brain.LongTermMemory - Triple in statement: lenka_like_action-movies [person_->_film-genre])\n",
      "2022-02-14 20:07:55 -     INFO -                                  cltl.brain.ThoughtGenerator - Entity Novelty: existing subject - new object \n",
      "2022-02-14 20:07:55 -     INFO -                                  cltl.brain.ThoughtGenerator - Overlaps: 2 subject overlaps: e.g. selene on November,2017 about ice-cream - 0 object overlaps: e.g. ''\n"
     ]
    },
    {
     "name": "stdout",
     "output_type": "stream",
     "text": [
      "\n",
      "lenka_like_harry-potter [person_->_movie])\n",
      "\n",
      "\n",
      "\n",
      "---------------------------------------------------------------\n",
      "\n"
     ]
    },
    {
     "name": "stderr",
     "output_type": "stream",
     "text": [
      "2022-02-14 20:08:19 -     INFO -                                  cltl.brain.ThoughtGenerator - Gaps: 49 gaps as subject: e.g. experience touch - 31 gaps as object: e.g. read-by interest\n",
      "2022-02-14 20:08:19 -     INFO -                                  cltl.brain.ThoughtGenerator - Gaps: 46 gaps as subject: e.g. experience smell - 30 gaps as object: e.g. cook-by interest\n",
      " 28%|██████▊                 | 11/39 [03:42<12:08, 26.03s/it]2022-02-14 20:08:19 -     INFO -                                    cltl.brain.LongTermMemory - Triple in statement: piek_like_balkenbrij [person_->_dish])\n",
      "2022-02-14 20:08:19 -     INFO -                                  cltl.brain.ThoughtGenerator - Entity Novelty: existing subject - new object \n"
     ]
    },
    {
     "name": "stdout",
     "output_type": "stream",
     "text": [
      "\n",
      "lenka_like_action-movies [person_->_film-genre])\n",
      "\n",
      "\n",
      "\n",
      "---------------------------------------------------------------\n",
      "\n"
     ]
    },
    {
     "name": "stderr",
     "output_type": "stream",
     "text": [
      "2022-02-14 20:08:50 -     INFO -                                  cltl.brain.ThoughtGenerator - Gaps: 45 gaps as subject: e.g. favorite interest - 36 gaps as object: e.g. experience agent\n",
      "2022-02-14 20:08:50 -     INFO -                                  cltl.brain.ThoughtGenerator - Gaps: 47 gaps as subject: e.g. manufacture-in location - 30 gaps as object: e.g. read-by book\n",
      " 31%|███████▍                | 12/39 [04:14<12:25, 27.60s/it]2022-02-14 20:08:50 -     INFO -                                    cltl.brain.LongTermMemory - Triple in statement: piek_like_sailing [person_->_sport])\n",
      "2022-02-14 20:08:50 -     INFO -                                  cltl.brain.ThoughtGenerator - Entity Novelty: existing subject - new object \n"
     ]
    },
    {
     "name": "stdout",
     "output_type": "stream",
     "text": [
      "\n",
      "piek_like_balkenbrij [person_->_dish])\n",
      "\n",
      "\n",
      "\n",
      "---------------------------------------------------------------\n",
      "\n"
     ]
    },
    {
     "name": "stderr",
     "output_type": "stream",
     "text": [
      "2022-02-14 20:09:46 -     INFO -                                  cltl.brain.ThoughtGenerator - Gaps: 45 gaps as subject: e.g. manufacture-in location - 36 gaps as object: e.g. be-friends-with agent\n",
      "2022-02-14 20:09:47 -     INFO -                                  cltl.brain.ThoughtGenerator - Gaps: 47 gaps as subject: e.g. favorite interest - 30 gaps as object: e.g. be-parent-of agent\n",
      " 33%|████████                | 13/39 [05:10<15:43, 36.29s/it]2022-02-14 20:09:47 -     INFO -                                    cltl.brain.LongTermMemory - Triple in statement: selene_like_tacos [person_->_dish])\n",
      "2022-02-14 20:09:47 -     INFO -                                  cltl.brain.ThoughtGenerator - Entity Novelty: existing subject - new object \n"
     ]
    },
    {
     "name": "stdout",
     "output_type": "stream",
     "text": [
      "\n",
      "piek_like_sailing [person_->_sport])\n",
      "\n",
      "\n",
      "\n",
      "---------------------------------------------------------------\n",
      "\n"
     ]
    },
    {
     "name": "stderr",
     "output_type": "stream",
     "text": [
      "2022-02-14 20:10:37 -     INFO -                                  cltl.brain.ThoughtGenerator - Gaps: 49 gaps as subject: e.g. play sport - 37 gaps as object: e.g. be-child-of person\n",
      "2022-02-14 20:10:37 -     INFO -                                  cltl.brain.ThoughtGenerator - Gaps: 46 gaps as subject: e.g. experience sensor - 30 gaps as object: e.g. dislike agent\n",
      " 36%|████████▌               | 14/39 [06:00<16:54, 40.58s/it]2022-02-14 20:10:37 -     INFO -                                    cltl.brain.LongTermMemory - Triple in statement: suzana_like_pizza [person_->_dish])\n",
      "2022-02-14 20:10:37 -     INFO -                                  cltl.brain.ThoughtGenerator - Entity Novelty: existing subject - new object \n"
     ]
    },
    {
     "name": "stdout",
     "output_type": "stream",
     "text": [
      "\n",
      "selene_like_tacos [person_->_dish])\n",
      "\n",
      "\n",
      "\n",
      "---------------------------------------------------------------\n",
      "\n"
     ]
    },
    {
     "name": "stderr",
     "output_type": "stream",
     "text": [
      "2022-02-14 20:11:24 -     INFO -                                  cltl.brain.ThoughtGenerator - Gaps: 49 gaps as subject: e.g. be-friends-with person - 31 gaps as object: e.g. be-friends-with person\n",
      "2022-02-14 20:11:24 -     INFO -                                  cltl.brain.ThoughtGenerator - Gaps: 46 gaps as subject: e.g. experience smell - 30 gaps as object: e.g. share-interest agent\n",
      " 38%|█████████▏              | 15/39 [06:47<16:59, 42.48s/it]2022-02-14 20:11:24 -     INFO -                                    cltl.brain.LongTermMemory - Triple in statement: leolani_be-from_france [robot_->_location])\n",
      "2022-02-14 20:11:24 -     INFO -                                  cltl.brain.ThoughtGenerator - Entity Novelty: existing subject - new object \n"
     ]
    },
    {
     "name": "stdout",
     "output_type": "stream",
     "text": [
      "\n",
      "suzana_like_pizza [person_->_dish])\n",
      "\n",
      "\n",
      "\n",
      "---------------------------------------------------------------\n",
      "\n"
     ]
    },
    {
     "name": "stderr",
     "output_type": "stream",
     "text": [
      "2022-02-14 20:12:27 -     INFO -                                  cltl.brain.ThoughtGenerator - Gaps: 49 gaps as subject: e.g. acknowledge sensor - 31 gaps as object: e.g. be-parent-of person\n",
      "2022-02-14 20:12:28 -     INFO -                                  cltl.brain.ThoughtGenerator - Gaps: 2 gaps as subject: e.g. in country - 15 gaps as object: e.g. live-in agent\n",
      " 41%|█████████▊              | 16/39 [07:51<18:43, 48.84s/it]"
     ]
    },
    {
     "name": "stdout",
     "output_type": "stream",
     "text": [
      "\n",
      "leolani_be-from_france [robot_->_location])\n",
      "\n",
      "\n",
      "\n",
      "---------------------------------------------------------------\n",
      "\n"
     ]
    },
    {
     "name": "stderr",
     "output_type": "stream",
     "text": [
      "2022-02-14 20:12:29 -     INFO -                                    cltl.brain.LongTermMemory - Triple in statement: lenka_mother-is_ljubica [person_->_person])\n",
      "2022-02-14 20:12:29 -     INFO -                                  cltl.brain.ThoughtGenerator - Entity Novelty: existing subject - new object \n",
      "2022-02-14 20:13:28 -     INFO -                                  cltl.brain.ThoughtGenerator - Gaps: 49 gaps as subject: e.g. write-by person - 37 gaps as object: e.g. sense agent\n",
      "2022-02-14 20:13:28 -     INFO -                                  cltl.brain.ThoughtGenerator - Gaps: 42 gaps as subject: e.g. be-colleague-of agent - 29 gaps as object: e.g. dislike agent\n",
      " 44%|██████████▍             | 17/39 [08:52<19:13, 52.41s/it]2022-02-14 20:13:28 -     INFO -                                    cltl.brain.LongTermMemory - Triple in statement: lenka_favorite-is_cake [person_->_dish])\n",
      "2022-02-14 20:13:28 -     INFO -                                  cltl.brain.ThoughtGenerator - Entity Novelty: existing subject - new object \n"
     ]
    },
    {
     "name": "stdout",
     "output_type": "stream",
     "text": [
      "\n",
      "lenka_mother-is_ljubica [person_->_person])\n",
      "\n",
      "\n",
      "\n",
      "---------------------------------------------------------------\n",
      "\n"
     ]
    },
    {
     "name": "stderr",
     "output_type": "stream",
     "text": [
      "2022-02-14 20:14:26 -     INFO -                                  cltl.brain.ThoughtGenerator - Gaps: 49 gaps as subject: e.g. sense sensor - 37 gaps as object: e.g. dislike agent\n",
      "2022-02-14 20:14:27 -     INFO -                                  cltl.brain.ThoughtGenerator - Gaps: 8 gaps as subject: e.g. favorite-of agent - 3 gaps as object: e.g. play agent\n",
      " 46%|███████████             | 18/39 [09:50<18:58, 54.19s/it]2022-02-14 20:14:27 -     INFO -                                    cltl.brain.LongTermMemory - Triple in statement: selene_like_coco [person_->_movie])\n",
      "2022-02-14 20:14:27 -     INFO -                                  cltl.brain.ThoughtGenerator - Entity Novelty: existing subject - new object \n",
      "2022-02-14 20:14:27 -     INFO -                                  cltl.brain.ThoughtGenerator - Overlaps: 2 subject overlaps: e.g. selene on March,2018 about tacos - 0 object overlaps: e.g. ''\n"
     ]
    },
    {
     "name": "stdout",
     "output_type": "stream",
     "text": [
      "\n",
      "lenka_favorite-is_cake [person_->_dish])\n",
      "\n",
      "\n",
      "\n",
      "---------------------------------------------------------------\n",
      "\n"
     ]
    },
    {
     "name": "stderr",
     "output_type": "stream",
     "text": [
      "2022-02-14 20:15:30 -     INFO -                                  cltl.brain.ThoughtGenerator - Gaps: 49 gaps as subject: e.g. like-by agent - 37 gaps as object: e.g. acknowledge agent\n",
      "2022-02-14 20:15:30 -     INFO -                                  cltl.brain.ThoughtGenerator - Gaps: 46 gaps as subject: e.g. be-friends-with agent - 30 gaps as object: e.g. favorite-of agent\n",
      " 49%|███████████▋            | 19/39 [10:53<18:59, 56.99s/it]2022-02-14 20:15:30 -     INFO -                                    cltl.brain.LongTermMemory - Triple in statement: bram_like_the-big-lebowski [person_->_movie])\n",
      "2022-02-14 20:15:30 -     INFO -                                  cltl.brain.ThoughtGenerator - Entity Novelty: existing subject - new object \n",
      "2022-02-14 20:15:30 -     INFO -                                  cltl.brain.ThoughtGenerator - Overlaps: 4 subject overlaps: e.g. selene on November,2017 about romantic-movies - 0 object overlaps: e.g. ''\n"
     ]
    },
    {
     "name": "stdout",
     "output_type": "stream",
     "text": [
      "\n",
      "selene_like_coco [person_->_movie])\n",
      "\n",
      "\n",
      "\n",
      "---------------------------------------------------------------\n",
      "\n"
     ]
    },
    {
     "name": "stderr",
     "output_type": "stream",
     "text": [
      "2022-02-14 20:16:58 -     INFO -                                  cltl.brain.ThoughtGenerator - Gaps: 49 gaps as subject: e.g. cook-by agent - 31 gaps as object: e.g. write-by interest\n",
      "2022-02-14 20:16:59 -     INFO -                                  cltl.brain.ThoughtGenerator - Gaps: 46 gaps as subject: e.g. share-interest agent - 30 gaps as object: e.g. write-by book\n",
      " 51%|████████████▎           | 20/39 [12:22<21:03, 66.52s/it]2022-02-14 20:16:59 -     INFO -                                    cltl.brain.LongTermMemory - Triple in statement: piek_like_2001-a-space-odyssey [person_->_movie])\n",
      "2022-02-14 20:16:59 -     INFO -                                  cltl.brain.ThoughtGenerator - Entity Novelty: existing subject - new object \n"
     ]
    },
    {
     "name": "stdout",
     "output_type": "stream",
     "text": [
      "\n",
      "bram_like_the-big-lebowski [person_->_movie])\n",
      "\n",
      "\n",
      "\n",
      "---------------------------------------------------------------\n",
      "\n"
     ]
    },
    {
     "name": "stderr",
     "output_type": "stream",
     "text": [
      "2022-02-14 20:18:28 -     INFO -                                  cltl.brain.ThoughtGenerator - Gaps: 45 gaps as subject: e.g. play interest-field - 36 gaps as object: e.g. be-family-of agent\n",
      "2022-02-14 20:18:29 -     INFO -                                  cltl.brain.ThoughtGenerator - Gaps: 47 gaps as subject: e.g. play interest-occurrence - 30 gaps as object: e.g. be-family-of agent\n",
      " 54%|████████████▉           | 21/39 [13:52<22:03, 73.51s/it]2022-02-14 20:18:29 -     INFO -                                    cltl.brain.LongTermMemory - Triple in statement: piek_like_horror-movies [person_->_film-genre])\n",
      "2022-02-14 20:18:29 -     INFO -                                  cltl.brain.ThoughtGenerator - Entity Novelty: existing subject - new object \n"
     ]
    },
    {
     "name": "stdout",
     "output_type": "stream",
     "text": [
      "\n",
      "piek_like_2001-a-space-odyssey [person_->_movie])\n",
      "\n",
      "\n",
      "\n",
      "---------------------------------------------------------------\n",
      "\n"
     ]
    },
    {
     "name": "stderr",
     "output_type": "stream",
     "text": [
      "2022-02-14 20:19:56 -     INFO -                                  cltl.brain.ThoughtGenerator - Gaps: 45 gaps as subject: e.g. be-ancestor-of person - 36 gaps as object: e.g. be-child-of person\n",
      "2022-02-14 20:19:56 -     INFO -                                  cltl.brain.ThoughtGenerator - Gaps: 47 gaps as subject: e.g. manufacture-in location - 30 gaps as object: e.g. favorite-of agent\n",
      " 56%|█████████████▌          | 22/39 [15:20<22:01, 77.75s/it]2022-02-14 20:19:56 -     INFO -                                    cltl.brain.LongTermMemory - Triple in statement: bram_like_action-movies [person_->_film-genre])\n",
      "2022-02-14 20:19:56 -     INFO -                                  cltl.brain.ThoughtGenerator - Overlaps: 6 subject overlaps: e.g. selene on November,2017 about romantic-movies - 2 object overlaps: e.g. selene on March,2018 about lenka\n"
     ]
    },
    {
     "name": "stdout",
     "output_type": "stream",
     "text": [
      "\n",
      "piek_like_horror-movies [person_->_film-genre])\n",
      "\n",
      "\n",
      "\n",
      "---------------------------------------------------------------\n",
      "\n"
     ]
    },
    {
     "name": "stderr",
     "output_type": "stream",
     "text": [
      "2022-02-14 20:22:07 -     INFO -                                  cltl.brain.ThoughtGenerator - Gaps: 49 gaps as subject: e.g. acknowledge taste - 37 gaps as object: e.g. be-colleague-of agent\n",
      "2022-02-14 20:22:08 -     INFO -                                  cltl.brain.ThoughtGenerator - Gaps: 46 gaps as subject: e.g. favorite interest - 30 gaps as object: e.g. favorite-of agent\n",
      " 59%|██████████████▏         | 23/39 [17:31<25:01, 93.83s/it]2022-02-14 20:22:08 -     INFO -                                    cltl.brain.LongTermMemory - Triple in statement: bram_be-from_italy [person_->_location])\n",
      "2022-02-14 20:22:08 -     INFO -                                  cltl.brain.ThoughtGenerator - Entity Novelty: existing subject - new object \n",
      "2022-02-14 20:22:08 -     INFO -                                  cltl.brain.ThoughtGenerator - Overlaps: 1 subject overlaps: e.g. piek on October,2017 about netherlands - 0 object overlaps: e.g. ''\n"
     ]
    },
    {
     "name": "stdout",
     "output_type": "stream",
     "text": [
      "\n",
      "bram_like_action-movies [person_->_film-genre])\n",
      "\n",
      "\n",
      "\n",
      "---------------------------------------------------------------\n",
      "\n"
     ]
    },
    {
     "name": "stderr",
     "output_type": "stream",
     "text": [
      "2022-02-14 20:23:09 -     INFO -                                  cltl.brain.ThoughtGenerator - Cardinality Conflict: piek on October,2017 about netherlands\n",
      "2022-02-14 20:23:10 -     INFO -                                  cltl.brain.ThoughtGenerator - Gaps: 49 gaps as subject: e.g. sense sensor - 37 gaps as object: e.g. share-interest agent\n",
      "2022-02-14 20:23:11 -     INFO -                                  cltl.brain.ThoughtGenerator - Gaps: 2 gaps as subject: e.g. in country - 15 gaps as object: e.g. born-in cuisine\n",
      " 62%|██████████████▊         | 24/39 [18:34<21:08, 84.58s/it]2022-02-14 20:23:11 -     INFO -                                    cltl.brain.LongTermMemory - Triple in statement: bram_like_goulash [person_->_dish])\n",
      "2022-02-14 20:23:11 -     INFO -                                  cltl.brain.ThoughtGenerator - Statement Novelty: 2 times, e.g. selene on March,2018\n",
      "2022-02-14 20:23:11 -     INFO -                                  cltl.brain.ThoughtGenerator - Overlaps: 5 subject overlaps: e.g. selene on November,2017 about romantic-movies - 0 object overlaps: e.g. ''\n"
     ]
    },
    {
     "name": "stdout",
     "output_type": "stream",
     "text": [
      "\n",
      "bram_be-from_italy [person_->_location])\n",
      "\n",
      "\n",
      "\n",
      "---------------------------------------------------------------\n",
      "\n"
     ]
    },
    {
     "name": "stderr",
     "output_type": "stream",
     "text": [
      "2022-02-14 20:24:23 -     INFO -                                  cltl.brain.ThoughtGenerator - Negation Conflicts: selene on March,2018 about POSITIVE\n",
      "2022-02-14 20:24:24 -     INFO -                                  cltl.brain.ThoughtGenerator - Gaps: 49 gaps as subject: e.g. play interest-occurrence - 37 gaps as object: e.g. sense agent\n",
      "2022-02-14 20:24:27 -     INFO -                                  cltl.brain.ThoughtGenerator - Gaps: 46 gaps as subject: e.g. own object - 30 gaps as object: e.g. read-by interest-occurrence\n"
     ]
    },
    {
     "name": "stdout",
     "output_type": "stream",
     "text": [
      "\n",
      "bram_like_goulash [person_->_dish])\n",
      "\n"
     ]
    },
    {
     "name": "stderr",
     "output_type": "stream",
     "text": [
      " 64%|███████████████▍        | 25/39 [19:51<19:12, 82.32s/it]2022-02-14 20:24:28 -     INFO -                                    cltl.brain.LongTermMemory - Triple in statement: bram_like_baseball [person_->_sport])\n",
      "2022-02-14 20:24:28 -     INFO -                                  cltl.brain.ThoughtGenerator - Entity Novelty: existing subject - new object \n"
     ]
    },
    {
     "name": "stdout",
     "output_type": "stream",
     "text": [
      "\n",
      "\n",
      "---------------------------------------------------------------\n",
      "\n"
     ]
    },
    {
     "name": "stderr",
     "output_type": "stream",
     "text": [
      "2022-02-14 20:24:28 -     INFO -                                  cltl.brain.ThoughtGenerator - Overlaps: 8 subject overlaps: e.g. selene on November,2017 about romantic-movies - 0 object overlaps: e.g. ''\n",
      "2022-02-14 20:25:53 -     INFO -                                  cltl.brain.ThoughtGenerator - Gaps: 49 gaps as subject: e.g. own object - 37 gaps as object: e.g. favorite agent\n",
      "2022-02-14 20:25:54 -     INFO -                                  cltl.brain.ThoughtGenerator - Gaps: 46 gaps as subject: e.g. sense sensor - 30 gaps as object: e.g. know agent\n",
      " 67%|████████████████        | 26/39 [21:18<18:06, 83.59s/it]2022-02-14 20:25:54 -     INFO -                                    cltl.brain.LongTermMemory - Triple in statement: bram_like_apple-pie [person_->_dish])\n",
      "2022-02-14 20:25:54 -     INFO -                                  cltl.brain.ThoughtGenerator - Entity Novelty: existing subject - new object \n",
      "2022-02-14 20:25:54 -     INFO -                                  cltl.brain.ThoughtGenerator - Overlaps: 9 subject overlaps: e.g. bram on March,2018 about baseball - 0 object overlaps: e.g. ''\n"
     ]
    },
    {
     "name": "stdout",
     "output_type": "stream",
     "text": [
      "\n",
      "bram_like_baseball [person_->_sport])\n",
      "\n",
      "\n",
      "\n",
      "---------------------------------------------------------------\n",
      "\n"
     ]
    },
    {
     "name": "stderr",
     "output_type": "stream",
     "text": [
      "2022-02-14 20:27:50 -     INFO -                                  cltl.brain.ThoughtGenerator - Gaps: 49 gaps as subject: e.g. like agent - 37 gaps as object: e.g. cook-by interest\n",
      "2022-02-14 20:27:52 -     INFO -                                  cltl.brain.ThoughtGenerator - Gaps: 46 gaps as subject: e.g. live-in location - 30 gaps as object: e.g. cook-by dish\n",
      " 69%|████████████████▌       | 27/39 [23:15<18:44, 93.75s/it]2022-02-14 20:27:52 -     INFO -                                    cltl.brain.LongTermMemory - Triple in statement: selene_like_animated-movies [person_->_film-genre])\n",
      "2022-02-14 20:27:52 -     INFO -                                  cltl.brain.ThoughtGenerator - Entity Novelty: existing subject - new object \n",
      "2022-02-14 20:27:52 -     INFO -                                  cltl.brain.ThoughtGenerator - Overlaps: 4 subject overlaps: e.g. selene on November,2017 about tacos - 0 object overlaps: e.g. ''\n"
     ]
    },
    {
     "name": "stdout",
     "output_type": "stream",
     "text": [
      "\n",
      "bram_like_apple-pie [person_->_dish])\n",
      "\n",
      "\n",
      "\n",
      "---------------------------------------------------------------\n",
      "\n"
     ]
    },
    {
     "name": "stderr",
     "output_type": "stream",
     "text": [
      "2022-02-14 20:29:44 -     INFO -                                  cltl.brain.ThoughtGenerator - Gaps: 49 gaps as subject: e.g. like-by agent - 37 gaps as object: e.g. read-by book\n",
      "2022-02-14 20:29:45 -     INFO -                                  cltl.brain.ThoughtGenerator - Gaps: 46 gaps as subject: e.g. acknowledge touch - 30 gaps as object: e.g. cook-by dish\n",
      " 72%|█████████████████▏      | 28/39 [25:08<18:15, 99.57s/it]2022-02-14 20:29:45 -     INFO -                                    cltl.brain.LongTermMemory - Triple in statement: lenka_like_acrobatics [person_->_sport])\n",
      "2022-02-14 20:29:45 -     INFO -                                  cltl.brain.ThoughtGenerator - Entity Novelty: existing subject - new object \n",
      "2022-02-14 20:29:45 -     INFO -                                  cltl.brain.ThoughtGenerator - Overlaps: 6 subject overlaps: e.g. selene on November,2017 about ice-cream - 0 object overlaps: e.g. ''\n"
     ]
    },
    {
     "name": "stdout",
     "output_type": "stream",
     "text": [
      "\n",
      "selene_like_animated-movies [person_->_film-genre])\n",
      "\n",
      "\n",
      "\n",
      "---------------------------------------------------------------\n",
      "\n"
     ]
    },
    {
     "name": "stderr",
     "output_type": "stream",
     "text": [
      "2022-02-14 20:31:45 -     INFO -                                  cltl.brain.ThoughtGenerator - Gaps: 49 gaps as subject: e.g. be-from location - 37 gaps as object: e.g. write-by book\n",
      "2022-02-14 20:31:46 -     INFO -                                  cltl.brain.ThoughtGenerator - Gaps: 46 gaps as subject: e.g. dislike agent - 30 gaps as object: e.g. be-friends-with person\n",
      " 74%|█████████████████      | 29/39 [27:10<17:41, 106.17s/it]2022-02-14 20:31:47 -     INFO -                                    cltl.brain.LongTermMemory - Triple in statement: leolani_be-from_japan [robot_->_location])\n",
      "2022-02-14 20:31:47 -     INFO -                                  cltl.brain.ThoughtGenerator - Entity Novelty: existing subject - new object \n",
      "2022-02-14 20:31:47 -     INFO -                                  cltl.brain.ThoughtGenerator - Overlaps: 2 subject overlaps: e.g. selene on March,2018 about france - 0 object overlaps: e.g. ''\n"
     ]
    },
    {
     "name": "stdout",
     "output_type": "stream",
     "text": [
      "\n",
      "lenka_like_acrobatics [person_->_sport])\n",
      "\n",
      "\n",
      "\n",
      "---------------------------------------------------------------\n",
      "\n"
     ]
    },
    {
     "name": "stderr",
     "output_type": "stream",
     "text": [
      "2022-02-14 20:34:05 -     INFO -                                  cltl.brain.ThoughtGenerator - Cardinality Conflict: selene on November,2017 about france\n",
      "2022-02-14 20:34:06 -     INFO -                                  cltl.brain.ThoughtGenerator - Gaps: 49 gaps as subject: e.g. be-ancestor-of agent - 31 gaps as object: e.g. favorite agent\n",
      "2022-02-14 20:34:07 -     INFO -                                  cltl.brain.ThoughtGenerator - Gaps: 2 gaps as subject: e.g. in location - 15 gaps as object: e.g. in city\n",
      " 77%|█████████████████▋     | 30/39 [29:31<17:29, 116.58s/it]2022-02-14 20:34:07 -     INFO -                                    cltl.brain.LongTermMemory - Triple in statement: bram_like_romantic-movies [person_->_film-genre])\n",
      "2022-02-14 20:34:07 -     INFO -                                  cltl.brain.ThoughtGenerator - Statement Novelty: 2 times, e.g. selene on March,2018\n"
     ]
    },
    {
     "name": "stdout",
     "output_type": "stream",
     "text": [
      "\n",
      "leolani_be-from_japan [robot_->_location])\n",
      "\n",
      "\n",
      "\n",
      "---------------------------------------------------------------\n",
      "\n"
     ]
    },
    {
     "name": "stderr",
     "output_type": "stream",
     "text": [
      "2022-02-14 20:34:07 -     INFO -                                  cltl.brain.ThoughtGenerator - Overlaps: 8 subject overlaps: e.g. lenka on March,2018 about the-big-lebowski - 0 object overlaps: e.g. ''\n",
      "2022-02-14 20:35:58 -     INFO -                                  cltl.brain.ThoughtGenerator - Negation Conflicts: piek on March,2018 about POSITIVE\n",
      "2022-02-14 20:35:59 -     INFO -                                  cltl.brain.ThoughtGenerator - Gaps: 49 gaps as subject: e.g. acknowledge touch - 37 gaps as object: e.g. like-by interest\n",
      "2022-02-14 20:36:00 -     INFO -                                  cltl.brain.ThoughtGenerator - Gaps: 46 gaps as subject: e.g. favorite interest - 30 gaps as object: e.g. read-by interest-occurrence\n",
      " 79%|██████████████████▎    | 31/39 [31:23<15:23, 115.40s/it]2022-02-14 20:36:00 -     INFO -                                    cltl.brain.LongTermMemory - Triple in statement: selene_like_tacos [person_->_dish])\n",
      "2022-02-14 20:36:00 -     INFO -                                  cltl.brain.ThoughtGenerator - Statement Novelty: 2 times, e.g. selene on November,2017\n"
     ]
    },
    {
     "name": "stdout",
     "output_type": "stream",
     "text": [
      "\n",
      "bram_like_romantic-movies [person_->_film-genre])\n",
      "\n",
      "\n",
      "\n",
      "---------------------------------------------------------------\n",
      "\n"
     ]
    },
    {
     "name": "stderr",
     "output_type": "stream",
     "text": [
      "2022-02-14 20:36:00 -     INFO -                                  cltl.brain.ThoughtGenerator - Overlaps: 3 subject overlaps: e.g. lenka on March,2018 about coco - 0 object overlaps: e.g. ''\n",
      "2022-02-14 20:38:22 -     INFO -                                  cltl.brain.ThoughtGenerator - Negation Conflicts: piek on March,2018 about NEGATIVE\n",
      "2022-02-14 20:38:23 -     INFO -                                  cltl.brain.ThoughtGenerator - Gaps: 49 gaps as subject: e.g. work-at institution - 37 gaps as object: e.g. like-by interest\n",
      "2022-02-14 20:38:31 -     INFO -                                  cltl.brain.ThoughtGenerator - Gaps: 46 gaps as subject: e.g. dislike agent - 30 gaps as object: e.g. read-by interest-occurrence\n",
      " 82%|██████████████████▊    | 32/39 [33:54<14:42, 126.13s/it]2022-02-14 20:38:31 -     INFO -                                    cltl.brain.LongTermMemory - Triple in statement: piek_like_tacos [person_->_dish])\n"
     ]
    },
    {
     "name": "stdout",
     "output_type": "stream",
     "text": [
      "\n",
      "selene_like_tacos [person_->_dish])\n",
      "\n",
      "\n",
      "\n",
      "---------------------------------------------------------------\n",
      "\n"
     ]
    },
    {
     "name": "stderr",
     "output_type": "stream",
     "text": [
      "2022-02-14 20:38:31 -     INFO -                                  cltl.brain.ThoughtGenerator - Overlaps: 0 subject overlaps: e.g. '' - 3 object overlaps: e.g. piek on March,2018 about selene\n",
      "2022-02-14 20:41:34 -     INFO -                                  cltl.brain.ThoughtGenerator - Gaps: 45 gaps as subject: e.g. travel-to location - 36 gaps as object: e.g. experience person\n",
      "2022-02-14 20:41:37 -     INFO -                                  cltl.brain.ThoughtGenerator - Gaps: 47 gaps as subject: e.g. perceive sensor - 30 gaps as object: e.g. share-interest agent\n"
     ]
    },
    {
     "name": "stdout",
     "output_type": "stream",
     "text": [
      "\n",
      "piek_like_tacos [person_->_dish])\n",
      "\n"
     ]
    },
    {
     "name": "stderr",
     "output_type": "stream",
     "text": [
      " 85%|███████████████████▍   | 33/39 [37:00<14:24, 144.02s/it]2022-02-14 20:41:37 -     INFO -                                    cltl.brain.LongTermMemory - Triple in statement: bram_be-from_netherlands [person_->_location])\n",
      "2022-02-14 20:41:37 -     INFO -                                  cltl.brain.ThoughtGenerator - Statement Novelty: 1 times, e.g. piek on October,2017\n",
      "2022-02-14 20:41:37 -     INFO -                                  cltl.brain.ThoughtGenerator - Overlaps: 1 subject overlaps: e.g. bram on March,2018 about italy - 1 object overlaps: e.g. piek on October,2017 about selene\n"
     ]
    },
    {
     "name": "stdout",
     "output_type": "stream",
     "text": [
      "\n",
      "\n",
      "---------------------------------------------------------------\n",
      "\n"
     ]
    }
   ],
   "source": [
    "for (sample_brain, repo_name) in brains:\n",
    "\n",
    "    # Create brain connection\n",
    "    brain = LongTermMemory(address=f\"http://localhost:7200/repositories/{repo_name}\",\n",
    "                           log_dir=Path(f\"./../logs/\"),\n",
    "                           clear_all=True)\n",
    "\n",
    "    data = []\n",
    "\n",
    "    for capsule in tqdm(sample_brain):\n",
    "        # Add information to the brain\n",
    "        print(f\"\\n\\n---------------------------------------------------------------\\n\")\n",
    "        response = brain.update(capsule, reason_types=True, create_label=True)\n",
    "        print(f\"\\n{capsule['triple']}\\n\")\n",
    "\n",
    "        # Grab the thoughts\n",
    "        thoughts = response['thoughts']\n",
    "\n",
    "        # Gather stats\n",
    "        stats = {\n",
    "            'cardinality conflicts': len(thoughts.complement_conflicts()),\n",
    "            'negation conflicts': len(thoughts.negation_conflicts()),\n",
    "            'subject gaps': len(thoughts.subject_gaps()),\n",
    "            'object gaps': len(thoughts.complement_gaps()),\n",
    "            'statement novelty': len(thoughts.statement_novelties()),\n",
    "            'subject novelty': thoughts.entity_novelty().subject,\n",
    "            'object novelty': thoughts.entity_novelty().complement,\n",
    "            'overlaps subject-predicate': len(thoughts.overlaps().subject),\n",
    "            'overlaps on predicate-object': len(thoughts.overlaps().complement),\n",
    "            'trust': thoughts.trust(),\n",
    "\n",
    "            'Total explicit triples': len(brain.dataset),\n",
    "            'Total semantic statements': brain.count_statements(),\n",
    "            'Total sources': brain.count_friends(),\n",
    "            'Total predicates': len(brain.get_predicates()),\n",
    "            'Total classes': len(brain.get_classes())\n",
    "            # print(f'\\tTotal instances: {len(brain.get_classes())}')\n",
    "\n",
    "            # analogy, uncertainty\n",
    "            # perspective specific stats: sentiments, polarities\n",
    "            # generalize from overlaps and typing. how powerful is the knowledge in the ontology vs analogy\n",
    "        }\n",
    "\n",
    "        # Save stats\n",
    "        data.append(stats)\n",
    "\n",
    "    f = open(f\"./../data/{repo_name}_stats.json\", \"w\")\n",
    "    json.dump(data, f)"
   ]
  },
  {
   "cell_type": "code",
   "execution_count": null,
   "id": "242fec5d-ef11-4923-9555-58fb7e92517d",
   "metadata": {},
   "outputs": [],
   "source": []
  }
 ],
 "metadata": {
  "kernelspec": {
   "display_name": "evaluating-coversations-as-ekg",
   "language": "python",
   "name": "evaluating-coversations-as-ekg"
  },
  "language_info": {
   "codemirror_mode": {
    "name": "ipython",
    "version": 3
   },
   "file_extension": ".py",
   "mimetype": "text/x-python",
   "name": "python",
   "nbconvert_exporter": "python",
   "pygments_lexer": "ipython3",
   "version": "3.7.11"
  }
 },
 "nbformat": 4,
 "nbformat_minor": 5
}
